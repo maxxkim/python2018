{
 "cells": [
  {
   "cell_type": "markdown",
   "metadata": {},
   "source": [
    "# Avito classifier"
   ]
  },
  {
   "cell_type": "markdown",
   "metadata": {},
   "source": [
    "In this notebook we will try to solve the classification problem in NLP (text classification)."
   ]
  },
  {
   "cell_type": "markdown",
   "metadata": {},
   "source": [
    "## 1. Dataset"
   ]
  },
  {
   "cell_type": "markdown",
   "metadata": {},
   "source": [
    "Our dataset includes some ads from Avito. Down below we can see pandas table with 5 columns:\n",
    "\n",
    "    + item_id - it's just item id )))0); \n",
    "    + title - ad's title; \n",
    "    + description - good's descriptions (most important data for \n",
    "    our problem);\n",
    "    + price;\n",
    "    + category_id - our target variable."
   ]
  },
  {
   "cell_type": "code",
   "execution_count": 1,
   "metadata": {
    "ExecuteTime": {
     "end_time": "2019-06-15T19:00:49.896004Z",
     "start_time": "2019-06-15T19:00:49.660476Z"
    }
   },
   "outputs": [],
   "source": [
    "import pandas as pd"
   ]
  },
  {
   "cell_type": "code",
   "execution_count": 2,
   "metadata": {
    "ExecuteTime": {
     "end_time": "2019-06-15T19:00:56.579598Z",
     "start_time": "2019-06-15T19:00:52.508788Z"
    }
   },
   "outputs": [
    {
     "data": {
      "text/html": [
       "<div>\n",
       "<style scoped>\n",
       "    .dataframe tbody tr th:only-of-type {\n",
       "        vertical-align: middle;\n",
       "    }\n",
       "\n",
       "    .dataframe tbody tr th {\n",
       "        vertical-align: top;\n",
       "    }\n",
       "\n",
       "    .dataframe thead th {\n",
       "        text-align: right;\n",
       "    }\n",
       "</style>\n",
       "<table border=\"1\" class=\"dataframe\">\n",
       "  <thead>\n",
       "    <tr style=\"text-align: right;\">\n",
       "      <th></th>\n",
       "      <th>item_id</th>\n",
       "      <th>title</th>\n",
       "      <th>description</th>\n",
       "      <th>price</th>\n",
       "      <th>category_id</th>\n",
       "    </tr>\n",
       "  </thead>\n",
       "  <tbody>\n",
       "    <tr>\n",
       "      <th>0</th>\n",
       "      <td>0</td>\n",
       "      <td>Картина</td>\n",
       "      <td>Гобелен. Размеры 139х84см.</td>\n",
       "      <td>1000.0</td>\n",
       "      <td>19</td>\n",
       "    </tr>\n",
       "    <tr>\n",
       "      <th>1</th>\n",
       "      <td>1</td>\n",
       "      <td>Стулья из прессованной кожи</td>\n",
       "      <td>Продам недорого 4 стула из светлой прессованно...</td>\n",
       "      <td>1250.0</td>\n",
       "      <td>22</td>\n",
       "    </tr>\n",
       "    <tr>\n",
       "      <th>2</th>\n",
       "      <td>2</td>\n",
       "      <td>Домашняя мини баня</td>\n",
       "      <td>Мини баня МБ-1(мини сауна), предназначена для ...</td>\n",
       "      <td>13000.0</td>\n",
       "      <td>37</td>\n",
       "    </tr>\n",
       "    <tr>\n",
       "      <th>3</th>\n",
       "      <td>3</td>\n",
       "      <td>Эксклюзивная коллекция книг \"Трансаэро\" + подарок</td>\n",
       "      <td>Продам эксклюзивную коллекцию книг, выпущенную...</td>\n",
       "      <td>4000.0</td>\n",
       "      <td>43</td>\n",
       "    </tr>\n",
       "    <tr>\n",
       "      <th>4</th>\n",
       "      <td>4</td>\n",
       "      <td>Ноутбук aser</td>\n",
       "      <td>Продаётся ноутбук ACER e5-511C2TA. Куплен в ко...</td>\n",
       "      <td>19000.0</td>\n",
       "      <td>1</td>\n",
       "    </tr>\n",
       "  </tbody>\n",
       "</table>\n",
       "</div>"
      ],
      "text/plain": [
       "   item_id                                              title  \\\n",
       "0        0                                            Картина   \n",
       "1        1                        Стулья из прессованной кожи   \n",
       "2        2                                 Домашняя мини баня   \n",
       "3        3  Эксклюзивная коллекция книг \"Трансаэро\" + подарок   \n",
       "4        4                                       Ноутбук aser   \n",
       "\n",
       "                                         description    price  category_id  \n",
       "0                         Гобелен. Размеры 139х84см.   1000.0           19  \n",
       "1  Продам недорого 4 стула из светлой прессованно...   1250.0           22  \n",
       "2  Мини баня МБ-1(мини сауна), предназначена для ...  13000.0           37  \n",
       "3  Продам эксклюзивную коллекцию книг, выпущенную...   4000.0           43  \n",
       "4  Продаётся ноутбук ACER e5-511C2TA. Куплен в ко...  19000.0            1  "
      ]
     },
     "execution_count": 2,
     "metadata": {},
     "output_type": "execute_result"
    }
   ],
   "source": [
    "data = pd.read_csv('train.csv')\n",
    "data.head()"
   ]
  },
  {
   "cell_type": "markdown",
   "metadata": {},
   "source": [
    "## 1.2 Data exploration"
   ]
  },
  {
   "cell_type": "code",
   "execution_count": 3,
   "metadata": {
    "ExecuteTime": {
     "end_time": "2019-06-15T19:01:04.574800Z",
     "start_time": "2019-06-15T19:01:04.396756Z"
    }
   },
   "outputs": [],
   "source": [
    "import matplotlib.pyplot as plt"
   ]
  },
  {
   "cell_type": "code",
   "execution_count": 4,
   "metadata": {
    "ExecuteTime": {
     "end_time": "2019-06-15T19:01:05.611502Z",
     "start_time": "2019-06-15T19:01:04.965065Z"
    }
   },
   "outputs": [
    {
     "data": {
      "image/png": "[encoded data removed]",
      "text/plain": [
       "<Figure size 864x432 with 1 Axes>"
      ]
     },
     "metadata": {
      "needs_background": "light"
     },
     "output_type": "display_data"
    }
   ],
   "source": [
    "fig = plt.figure(figsize=(12,6))\n",
    "data.groupby('category_id').description.count().plot.bar(ylim=0)\n",
    "plt.show()"
   ]
  },
  {
   "cell_type": "markdown",
   "metadata": {},
   "source": [
    "Here we can see that there is no any 'mortal' imbalance in categories"
   ]
  },
  {
   "cell_type": "code",
   "execution_count": 8,
   "metadata": {
    "ExecuteTime": {
     "end_time": "2019-05-29T20:53:57.294042Z",
     "start_time": "2019-05-29T20:53:57.285214Z"
    }
   },
   "outputs": [],
   "source": [
    "import numpy as np"
   ]
  },
  {
   "cell_type": "code",
   "execution_count": 9,
   "metadata": {
    "ExecuteTime": {
     "end_time": "2019-05-29T20:54:00.923051Z",
     "start_time": "2019-05-29T20:54:00.521832Z"
    }
   },
   "outputs": [
    {
     "data": {
      "text/plain": [
       "<matplotlib.axes._subplots.AxesSubplot at 0x7fb12c431908>"
      ]
     },
     "execution_count": 9,
     "metadata": {},
     "output_type": "execute_result"
    },
    {
     "data": {
      "image/png": "[encoded data removed]",
      "text/plain": [
       "<Figure size 432x288 with 1 Axes>"
      ]
     },
     "metadata": {
      "needs_background": "light"
     },
     "output_type": "display_data"
    }
   ],
   "source": [
    "lens = data.description.str.len()\n",
    "lens.hist(bins = np.arange(0,3000,50))"
   ]
  },
  {
   "cell_type": "markdown",
   "metadata": {},
   "source": [
    "The distribution of the number of words in advertisements.\n",
    "\n",
    "Most of the advertisements length are within 100 characters, with some outliers up to 3,000 characters long."
   ]
  },
  {
   "cell_type": "markdown",
   "metadata": {},
   "source": [
    "## 1.3 Data preprocessing"
   ]
  },
  {
   "cell_type": "markdown",
   "metadata": {},
   "source": [
    "Let's join 'title' and 'description' together. It will make our preprocessing and calculations easier. And by the way these features are strongly related, so there is no need to make extra dimension."
   ]
  },
  {
   "cell_type": "code",
   "execution_count": 10,
   "metadata": {
    "ExecuteTime": {
     "end_time": "2019-05-29T20:59:55.834801Z",
     "start_time": "2019-05-29T20:59:47.203173Z"
    }
   },
   "outputs": [
    {
     "data": {
      "text/html": [
       "<div>\n",
       "<style scoped>\n",
       "    .dataframe tbody tr th:only-of-type {\n",
       "        vertical-align: middle;\n",
       "    }\n",
       "\n",
       "    .dataframe tbody tr th {\n",
       "        vertical-align: top;\n",
       "    }\n",
       "\n",
       "    .dataframe thead th {\n",
       "        text-align: right;\n",
       "    }\n",
       "</style>\n",
       "<table border=\"1\" class=\"dataframe\">\n",
       "  <thead>\n",
       "    <tr style=\"text-align: right;\">\n",
       "      <th></th>\n",
       "      <th>item_id</th>\n",
       "      <th>text</th>\n",
       "      <th>price</th>\n",
       "      <th>category_id</th>\n",
       "    </tr>\n",
       "  </thead>\n",
       "  <tbody>\n",
       "    <tr>\n",
       "      <th>0</th>\n",
       "      <td>0</td>\n",
       "      <td>Картина Гобелен. Размеры 139х84см.</td>\n",
       "      <td>1000.0</td>\n",
       "      <td>19</td>\n",
       "    </tr>\n",
       "    <tr>\n",
       "      <th>1</th>\n",
       "      <td>1</td>\n",
       "      <td>Стулья из прессованной кожи Продам недорого 4 ...</td>\n",
       "      <td>1250.0</td>\n",
       "      <td>22</td>\n",
       "    </tr>\n",
       "    <tr>\n",
       "      <th>2</th>\n",
       "      <td>2</td>\n",
       "      <td>Домашняя мини баня Мини баня МБ-1(мини сауна),...</td>\n",
       "      <td>13000.0</td>\n",
       "      <td>37</td>\n",
       "    </tr>\n",
       "    <tr>\n",
       "      <th>3</th>\n",
       "      <td>3</td>\n",
       "      <td>Эксклюзивная коллекция книг \"Трансаэро\" + пода...</td>\n",
       "      <td>4000.0</td>\n",
       "      <td>43</td>\n",
       "    </tr>\n",
       "    <tr>\n",
       "      <th>4</th>\n",
       "      <td>4</td>\n",
       "      <td>Ноутбук aser Продаётся ноутбук ACER e5-511C2TA...</td>\n",
       "      <td>19000.0</td>\n",
       "      <td>1</td>\n",
       "    </tr>\n",
       "  </tbody>\n",
       "</table>\n",
       "</div>"
      ],
      "text/plain": [
       "   item_id                                               text    price  \\\n",
       "0        0                 Картина Гобелен. Размеры 139х84см.   1000.0   \n",
       "1        1  Стулья из прессованной кожи Продам недорого 4 ...   1250.0   \n",
       "2        2  Домашняя мини баня Мини баня МБ-1(мини сауна),...  13000.0   \n",
       "3        3  Эксклюзивная коллекция книг \"Трансаэро\" + пода...   4000.0   \n",
       "4        4  Ноутбук aser Продаётся ноутбук ACER e5-511C2TA...  19000.0   \n",
       "\n",
       "   category_id  \n",
       "0           19  \n",
       "1           22  \n",
       "2           37  \n",
       "3           43  \n",
       "4            1  "
      ]
     },
     "execution_count": 10,
     "metadata": {},
     "output_type": "execute_result"
    }
   ],
   "source": [
    "data.insert(1 , 'text', data.apply(lambda x: x['title'] + ' ' + x['description'], axis=1))\n",
    "data.drop(['title', 'description'], axis=1, inplace=True)\n",
    "\n",
    "data.head()"
   ]
  },
  {
   "cell_type": "markdown",
   "metadata": {},
   "source": [
    "Now let's use 'GOOD OLD'regular expressions for cleanup and standard func '.lower()' to make words similar"
   ]
  },
  {
   "cell_type": "code",
   "execution_count": 27,
   "metadata": {
    "ExecuteTime": {
     "end_time": "2019-05-29T21:14:12.848894Z",
     "start_time": "2019-05-29T21:14:12.832663Z"
    }
   },
   "outputs": [],
   "source": [
    "import re\n",
    "\n",
    "def del_symb(text):\n",
    "    #return re.sub(r\"[^a-zA-Zа-яёА-Я0-9]\", \" \", text.lower())\n",
    "    return re.sub(r\"[^a-zA-Zа-яёА-Я]\", \" \", text.lower())"
   ]
  },
  {
   "cell_type": "code",
   "execution_count": 28,
   "metadata": {
    "ExecuteTime": {
     "end_time": "2019-05-29T21:14:31.777704Z",
     "start_time": "2019-05-29T21:14:23.026817Z"
    }
   },
   "outputs": [
    {
     "data": {
      "text/html": [
       "<div>\n",
       "<style scoped>\n",
       "    .dataframe tbody tr th:only-of-type {\n",
       "        vertical-align: middle;\n",
       "    }\n",
       "\n",
       "    .dataframe tbody tr th {\n",
       "        vertical-align: top;\n",
       "    }\n",
       "\n",
       "    .dataframe thead th {\n",
       "        text-align: right;\n",
       "    }\n",
       "</style>\n",
       "<table border=\"1\" class=\"dataframe\">\n",
       "  <thead>\n",
       "    <tr style=\"text-align: right;\">\n",
       "      <th></th>\n",
       "      <th>item_id</th>\n",
       "      <th>text</th>\n",
       "      <th>price</th>\n",
       "      <th>category_id</th>\n",
       "    </tr>\n",
       "  </thead>\n",
       "  <tbody>\n",
       "    <tr>\n",
       "      <th>0</th>\n",
       "      <td>0</td>\n",
       "      <td>картина гобелен  размеры    х  см</td>\n",
       "      <td>1000.0</td>\n",
       "      <td>19</td>\n",
       "    </tr>\n",
       "    <tr>\n",
       "      <th>1</th>\n",
       "      <td>1</td>\n",
       "      <td>стулья из прессованной кожи продам недорого   ...</td>\n",
       "      <td>1250.0</td>\n",
       "      <td>22</td>\n",
       "    </tr>\n",
       "    <tr>\n",
       "      <th>2</th>\n",
       "      <td>2</td>\n",
       "      <td>домашняя мини баня мини баня мб   мини сауна  ...</td>\n",
       "      <td>13000.0</td>\n",
       "      <td>37</td>\n",
       "    </tr>\n",
       "    <tr>\n",
       "      <th>3</th>\n",
       "      <td>3</td>\n",
       "      <td>эксклюзивная коллекция книг  трансаэро    пода...</td>\n",
       "      <td>4000.0</td>\n",
       "      <td>43</td>\n",
       "    </tr>\n",
       "    <tr>\n",
       "      <th>4</th>\n",
       "      <td>4</td>\n",
       "      <td>ноутбук aser продаётся ноутбук acer e     c ta...</td>\n",
       "      <td>19000.0</td>\n",
       "      <td>1</td>\n",
       "    </tr>\n",
       "  </tbody>\n",
       "</table>\n",
       "</div>"
      ],
      "text/plain": [
       "   item_id                                               text    price  \\\n",
       "0        0                 картина гобелен  размеры    х  см    1000.0   \n",
       "1        1  стулья из прессованной кожи продам недорого   ...   1250.0   \n",
       "2        2  домашняя мини баня мини баня мб   мини сауна  ...  13000.0   \n",
       "3        3  эксклюзивная коллекция книг  трансаэро    пода...   4000.0   \n",
       "4        4  ноутбук aser продаётся ноутбук acer e     c ta...  19000.0   \n",
       "\n",
       "   category_id  \n",
       "0           19  \n",
       "1           22  \n",
       "2           37  \n",
       "3           43  \n",
       "4            1  "
      ]
     },
     "execution_count": 28,
     "metadata": {},
     "output_type": "execute_result"
    }
   ],
   "source": [
    "data['text'] = data['text'].apply(del_symb)\n",
    "\n",
    "data.head()"
   ]
  },
  {
   "cell_type": "markdown",
   "metadata": {},
   "source": [
    "Before 'hard-core' preprocessing we could count unique word's amount"
   ]
  },
  {
   "cell_type": "code",
   "execution_count": 29,
   "metadata": {
    "ExecuteTime": {
     "end_time": "2019-05-29T21:16:58.391214Z",
     "start_time": "2019-05-29T21:16:53.901578Z"
    }
   },
   "outputs": [
    {
     "data": {
      "text/plain": [
       "376867"
      ]
     },
     "execution_count": 29,
     "metadata": {},
     "output_type": "execute_result"
    }
   ],
   "source": [
    "n_words = len(set(' '.join(data['text']).split()))\n",
    "n_words"
   ]
  },
  {
   "cell_type": "markdown",
   "metadata": {},
   "source": [
    "stop_words is set to \"russian\" to remove all common pronouns (\"в\", \"где\", ...) to reduce the number of noisy features."
   ]
  },
  {
   "cell_type": "code",
   "execution_count": 30,
   "metadata": {
    "ExecuteTime": {
     "end_time": "2019-05-29T21:17:36.192573Z",
     "start_time": "2019-05-29T21:17:23.459775Z"
    }
   },
   "outputs": [],
   "source": [
    "from nltk.corpus import stopwords\n",
    "import Stemmer as stm"
   ]
  },
  {
   "cell_type": "markdown",
   "metadata": {},
   "source": [
    "There're a lot of different specific stop_words like 'продам' and 'товар' in ads, so it's better to add them manually"
   ]
  },
  {
   "cell_type": "code",
   "execution_count": 32,
   "metadata": {
    "ExecuteTime": {
     "end_time": "2019-05-29T21:22:21.293139Z",
     "start_time": "2019-05-29T21:22:21.262204Z"
    }
   },
   "outputs": [],
   "source": [
    "my_stop_words = ['продам', 'продать',\n",
    "                 'руб', 'рублей',\n",
    "                 'тысяч', 'новый',\n",
    "                 'старый', 'товар', 'товара'\n",
    "                 'вес', 'длина', 'длинна', \n",
    "                 'толщина', 'состояние',\n",
    "                 'хорошее', 'отличное',\n",
    "                 'отличный', 'прекрасный',\n",
    "                 'размер', 'размеры',\n",
    "                 'цвет', 'мм', \n",
    "                 'mm', 'sm',\n",
    "                 'см', 'кг', 'г',\n",
    "                 'мг','производитель', 'код',\n",
    "                 'год', 'года', 'товар','товара',\n",
    "                 'категория'\n",
    "                ]\n",
    "\n",
    "# it is possible to add some more but these are first that comes to my mind."
   ]
  },
  {
   "cell_type": "code",
   "execution_count": 33,
   "metadata": {
    "ExecuteTime": {
     "end_time": "2019-05-29T21:22:33.940736Z",
     "start_time": "2019-05-29T21:22:33.924521Z"
    }
   },
   "outputs": [],
   "source": [
    "def process(input_text):\n",
    "    language = 'russian'\n",
    "    stemmer = stm.Stemmer(language)\n",
    "    \n",
    "    # List of stop words \n",
    "    stop_words = stopwords.words(language)+my_stop_words\n",
    "    # Remove the stop words \n",
    "    input_text = [x for x in input_text.split() if not x in stop_words]  \n",
    "    # Stemming on the words \n",
    "    input_text = [stemmer.stemWord(x) for x in input_text]\n",
    "    \n",
    "    return ' '.join(input_text)"
   ]
  },
  {
   "cell_type": "code",
   "execution_count": 34,
   "metadata": {
    "ExecuteTime": {
     "end_time": "2019-05-29T21:24:20.010052Z",
     "start_time": "2019-05-29T21:22:42.009423Z"
    }
   },
   "outputs": [],
   "source": [
    "data['text'] = data['text'].apply(process)"
   ]
  },
  {
   "cell_type": "code",
   "execution_count": 35,
   "metadata": {
    "ExecuteTime": {
     "end_time": "2019-05-29T21:24:20.023789Z",
     "start_time": "2019-05-29T21:24:20.012614Z"
    }
   },
   "outputs": [
    {
     "data": {
      "text/html": [
       "<div>\n",
       "<style scoped>\n",
       "    .dataframe tbody tr th:only-of-type {\n",
       "        vertical-align: middle;\n",
       "    }\n",
       "\n",
       "    .dataframe tbody tr th {\n",
       "        vertical-align: top;\n",
       "    }\n",
       "\n",
       "    .dataframe thead th {\n",
       "        text-align: right;\n",
       "    }\n",
       "</style>\n",
       "<table border=\"1\" class=\"dataframe\">\n",
       "  <thead>\n",
       "    <tr style=\"text-align: right;\">\n",
       "      <th></th>\n",
       "      <th>item_id</th>\n",
       "      <th>text</th>\n",
       "      <th>price</th>\n",
       "      <th>category_id</th>\n",
       "    </tr>\n",
       "  </thead>\n",
       "  <tbody>\n",
       "    <tr>\n",
       "      <th>0</th>\n",
       "      <td>0</td>\n",
       "      <td>картин гобел х</td>\n",
       "      <td>1000.0</td>\n",
       "      <td>19</td>\n",
       "    </tr>\n",
       "    <tr>\n",
       "      <th>1</th>\n",
       "      <td>1</td>\n",
       "      <td>стул прессова кож недор стул светл прессова ко...</td>\n",
       "      <td>1250.0</td>\n",
       "      <td>22</td>\n",
       "    </tr>\n",
       "    <tr>\n",
       "      <th>2</th>\n",
       "      <td>2</td>\n",
       "      <td>домашн мин бан мин бан мб мин саун предназнач ...</td>\n",
       "      <td>13000.0</td>\n",
       "      <td>37</td>\n",
       "    </tr>\n",
       "    <tr>\n",
       "      <th>3</th>\n",
       "      <td>3</td>\n",
       "      <td>эксклюзивн коллекц книг трансаэр подарок экскл...</td>\n",
       "      <td>4000.0</td>\n",
       "      <td>43</td>\n",
       "    </tr>\n",
       "    <tr>\n",
       "      <th>4</th>\n",
       "      <td>4</td>\n",
       "      <td>ноутбук aser продаёт ноутбук acer e c ta купл ...</td>\n",
       "      <td>19000.0</td>\n",
       "      <td>1</td>\n",
       "    </tr>\n",
       "  </tbody>\n",
       "</table>\n",
       "</div>"
      ],
      "text/plain": [
       "   item_id                                               text    price  \\\n",
       "0        0                                     картин гобел х   1000.0   \n",
       "1        1  стул прессова кож недор стул светл прессова ко...   1250.0   \n",
       "2        2  домашн мин бан мин бан мб мин саун предназнач ...  13000.0   \n",
       "3        3  эксклюзивн коллекц книг трансаэр подарок экскл...   4000.0   \n",
       "4        4  ноутбук aser продаёт ноутбук acer e c ta купл ...  19000.0   \n",
       "\n",
       "   category_id  \n",
       "0           19  \n",
       "1           22  \n",
       "2           37  \n",
       "3           43  \n",
       "4            1  "
      ]
     },
     "execution_count": 35,
     "metadata": {},
     "output_type": "execute_result"
    }
   ],
   "source": [
    "data.head()"
   ]
  },
  {
   "cell_type": "code",
   "execution_count": 36,
   "metadata": {
    "ExecuteTime": {
     "end_time": "2019-05-29T21:24:56.161599Z",
     "start_time": "2019-05-29T21:24:53.187203Z"
    }
   },
   "outputs": [
    {
     "data": {
      "text/plain": [
       "200489"
      ]
     },
     "execution_count": 36,
     "metadata": {},
     "output_type": "execute_result"
    }
   ],
   "source": [
    "n_words = len(set(' '.join(data['text']).split()))\n",
    "n_words"
   ]
  },
  {
   "cell_type": "markdown",
   "metadata": {},
   "source": [
    "We definetly reduced unique word's amount"
   ]
  },
  {
   "cell_type": "markdown",
   "metadata": {
    "ExecuteTime": {
     "end_time": "2019-05-29T21:26:43.556351Z",
     "start_time": "2019-05-29T21:26:43.542105Z"
    }
   },
   "source": [
    "## 1.4 Tfidf"
   ]
  },
  {
   "cell_type": "markdown",
   "metadata": {},
   "source": [
    "Specifically, for each term in our dataset, we will calculate a measure called Term Frequency, Inverse Document Frequency, abbreviated to tf-idf. We will use sklearn.feature_extraction.text.TfidfVectorizer to calculate a tf-idf vector for each of consumer complaint narratives:\n",
    "   - sublinear_df is set to True to use a logarithmic form for frequency\n",
    "   - min_df is the minimum numbers of documents a word must be present in to be kept\n",
    "   - norm is set to l2, to ensure all our feature vectors have a euclidian norm of 1\n",
    "   - ngram_range is set to (1, 2) to indicate that we want to consider both unigrams and bigrams\n",
    "\n",
    "\n",
    "\n",
    "    "
   ]
  },
  {
   "cell_type": "code",
   "execution_count": 38,
   "metadata": {
    "ExecuteTime": {
     "end_time": "2019-05-29T21:27:08.872559Z",
     "start_time": "2019-05-29T21:27:08.857874Z"
    }
   },
   "outputs": [],
   "source": [
    "from sklearn.feature_extraction.text import TfidfVectorizer"
   ]
  },
  {
   "cell_type": "code",
   "execution_count": 39,
   "metadata": {
    "ExecuteTime": {
     "end_time": "2019-05-29T21:28:41.711935Z",
     "start_time": "2019-05-29T21:28:41.699499Z"
    }
   },
   "outputs": [],
   "source": [
    "# parameters were selected experimentally\n",
    "\n",
    "tfidf = TfidfVectorizer(sublinear_tf=True, min_df=5, norm='l2',\n",
    "                        ngram_range=(1, 2), max_features=9000)"
   ]
  },
  {
   "cell_type": "code",
   "execution_count": 40,
   "metadata": {
    "ExecuteTime": {
     "end_time": "2019-05-29T21:29:36.325141Z",
     "start_time": "2019-05-29T21:28:50.503117Z"
    }
   },
   "outputs": [],
   "source": [
    "features = tfidf.fit_transform(data.text)"
   ]
  },
  {
   "cell_type": "code",
   "execution_count": 41,
   "metadata": {
    "ExecuteTime": {
     "end_time": "2019-05-29T21:29:38.543315Z",
     "start_time": "2019-05-29T21:29:38.528250Z"
    }
   },
   "outputs": [
    {
     "data": {
      "text/plain": [
       "(489517, 9000)"
      ]
     },
     "execution_count": 41,
     "metadata": {},
     "output_type": "execute_result"
    }
   ],
   "source": [
    "labels = data.category_id\n",
    "features.shape"
   ]
  },
  {
   "cell_type": "markdown",
   "metadata": {},
   "source": [
    "Now, each of 489517 advertisements is represented by 9000 features, representing the tf-idf score for different unigrams and bigrams.\n",
    "\n",
    "We can use sklearn.feature_selection.chi2 to find the terms that are the most correlated with each of the categories:"
   ]
  },
  {
   "cell_type": "code",
   "execution_count": 42,
   "metadata": {
    "ExecuteTime": {
     "end_time": "2019-05-29T21:30:00.944695Z",
     "start_time": "2019-05-29T21:30:00.921223Z"
    }
   },
   "outputs": [
    {
     "data": {
      "text/plain": [
       "array([19, 22, 37, 43,  1, 50, 41, 36, 48, 39, 30, 34, 46, 28, 24, 17, 32,\n",
       "       38, 51, 18, 14,  5,  4,  2, 33, 20, 13, 49,  8, 11, 53, 21, 25, 42,\n",
       "       40, 31, 12, 44, 23,  6,  7,  0, 15, 27, 29, 52,  3,  9, 16, 35, 47,\n",
       "       45, 26, 10])"
      ]
     },
     "execution_count": 42,
     "metadata": {},
     "output_type": "execute_result"
    }
   ],
   "source": [
    "data.category_id.unique()"
   ]
  },
  {
   "cell_type": "code",
   "execution_count": 43,
   "metadata": {
    "ExecuteTime": {
     "end_time": "2019-05-29T21:30:23.967091Z",
     "start_time": "2019-05-29T21:30:13.188711Z"
    }
   },
   "outputs": [
    {
     "name": "stdout",
     "output_type": "stream",
     "text": [
      "# '0':\n",
      "  . Most correlated unigrams:\n",
      ". айфон\n",
      ". iphone\n",
      "  . Most correlated bigrams:\n",
      ". прода iphone\n",
      ". iphone gb\n",
      "# '1':\n",
      "  . Most correlated unigrams:\n",
      ". нетбук\n",
      ". ноутбук\n",
      "  . Most correlated bigrams:\n",
      ". acer aspire\n",
      ". ноутбук asus\n",
      "# '2':\n",
      "  . Most correlated unigrams:\n",
      ". samsung\n",
      ". galaxy\n",
      "  . Most correlated bigrams:\n",
      ". телефон samsung\n",
      ". samsung galaxy\n",
      "# '3':\n",
      "  . Most correlated unigrams:\n",
      ". ipad\n",
      ". планшет\n",
      "  . Most correlated bigrams:\n",
      ". galaxy tab\n",
      ". ipad mini\n",
      "# '4':\n",
      "  . Most correlated unigrams:\n",
      ". приставк\n",
      ". джойстик\n",
      "  . Most correlated bigrams:\n",
      ". игров приставк\n",
      ". sony playstation\n",
      "# '5':\n",
      "  . Most correlated unigrams:\n",
      ". пульт\n",
      ". телевизор\n",
      "  . Most correlated bigrams:\n",
      ". телевизор lg\n",
      ". телевизор samsung\n",
      "# '6':\n",
      "  . Most correlated unigrams:\n",
      ". meizu\n",
      ". highscreen\n",
      "  . Most correlated bigrams:\n",
      ". meizu mx\n",
      ". asus zenfone\n",
      "# '7':\n",
      "  . Most correlated unigrams:\n",
      ". компьютер\n",
      ". системн\n",
      "  . Most correlated bigrams:\n",
      ". материнск плат\n",
      ". системн блок\n",
      "# '8':\n",
      "  . Most correlated unigrams:\n",
      ". игр\n",
      ". ps\n",
      "  . Most correlated bigrams:\n",
      ". ps диск\n",
      ". игр ps\n",
      "# '9':\n",
      "  . Most correlated unigrams:\n",
      ". iphone\n",
      ". чехол\n",
      "  . Most correlated bigrams:\n",
      ". чехл iphone\n",
      ". чехол iphone\n",
      "# '10':\n",
      "  . Most correlated unigrams:\n",
      ". lumia\n",
      ". nokia\n",
      "  . Most correlated bigrams:\n",
      ". телефон nokia\n",
      ". nokia lumia\n",
      "# '11':\n",
      "  . Most correlated unigrams:\n",
      ". sony\n",
      ". xperia\n",
      "  . Most correlated bigrams:\n",
      ". xperia телефон\n",
      ". sony xperia\n",
      "# '12':\n",
      "  . Most correlated unigrams:\n",
      ". сабвуфер\n",
      ". колонк\n",
      "  . Most correlated bigrams:\n",
      ". акустическ систем\n",
      ". домашн кинотеатр\n",
      "# '13':\n",
      "  . Most correlated unigrams:\n",
      ". матриц\n",
      ". монитор\n",
      "  . Most correlated bigrams:\n",
      ". жк монитор\n",
      ". монитор samsung\n",
      "# '14':\n",
      "  . Most correlated unigrams:\n",
      ". link\n",
      ". роутер\n",
      "  . Most correlated bigrams:\n",
      ". tp link\n",
      ". fi роутер\n",
      "# '15':\n",
      "  . Most correlated unigrams:\n",
      ". сруб\n",
      ". плитк\n",
      "  . Most correlated bigrams:\n",
      ". обрезн доск\n",
      ". керамическ плитк\n",
      "# '16':\n",
      "  . Most correlated unigrams:\n",
      ". крова\n",
      ". дива\n",
      "  . Most correlated bigrams:\n",
      ". дива кресл\n",
      ". спальн мест\n",
      "# '17':\n",
      "  . Most correlated unigrams:\n",
      ". сварочн\n",
      ". перфоратор\n",
      "  . Most correlated bigrams:\n",
      ". лиц безналичн\n",
      ". сварочн аппарат\n",
      "# '18':\n",
      "  . Most correlated unigrams:\n",
      ". стенк\n",
      ". шкаф\n",
      "  . Most correlated bigrams:\n",
      ". прода шкаф\n",
      ". шкаф куп\n",
      "# '19':\n",
      "  . Most correlated unigrams:\n",
      ". холст\n",
      ". картин\n",
      "  . Most correlated bigrams:\n",
      ". ручн работ\n",
      ". холст масл\n",
      "# '20':\n",
      "  . Most correlated unigrams:\n",
      ". чайн\n",
      ". сервиз\n",
      "  . Most correlated bigrams:\n",
      ". кофейн сервиз\n",
      ". чайн сервиз\n",
      "# '21':\n",
      "  . Most correlated unigrams:\n",
      ". смесител\n",
      ". раковин\n",
      "  . Most correlated bigrams:\n",
      ". смесител ван\n",
      ". душев кабин\n",
      "# '22':\n",
      "  . Most correlated unigrams:\n",
      ". стул\n",
      ". стол\n",
      "  . Most correlated bigrams:\n",
      ". стол стул\n",
      ". журнальн столик\n",
      "# '23':\n",
      "  . Most correlated unigrams:\n",
      ". зерка\n",
      ". вешалк\n",
      "  . Most correlated bigrams:\n",
      ". мебел детск\n",
      ". спальн гарнитур\n",
      "# '24':\n",
      "  . Most correlated unigrams:\n",
      ". горшк\n",
      ". растен\n",
      "  . Most correlated bigrams:\n",
      ". взросл растен\n",
      ". комнатн растен\n",
      "# '25':\n",
      "  . Most correlated unigrams:\n",
      ". межкомнатн\n",
      ". двер\n",
      "  . Most correlated bigrams:\n",
      ". входн двер\n",
      ". межкомнатн двер\n",
      "# '26':\n",
      "  . Most correlated unigrams:\n",
      ". машин\n",
      ". стиральн\n",
      "  . Most correlated bigrams:\n",
      ". стиральн машинк\n",
      ". стиральн машин\n",
      "# '27':\n",
      "  . Most correlated unigrams:\n",
      ". штор\n",
      ". ковер\n",
      "  . Most correlated bigrams:\n",
      ". комплект постельн\n",
      ". постельн бел\n",
      "# '28':\n",
      "  . Most correlated unigrams:\n",
      ". светильник\n",
      ". люстр\n",
      "  . Most correlated bigrams:\n",
      ". настольн ламп\n",
      ". люстр люстр\n",
      "# '29':\n",
      "  . Most correlated unigrams:\n",
      ". кофеварк\n",
      ". мультиварк\n",
      "  . Most correlated bigrams:\n",
      ". кухон комбайн\n",
      ". dolce gusto\n",
      "# '30':\n",
      "  . Most correlated unigrams:\n",
      ". развива\n",
      ". игрушк\n",
      "  . Most correlated bigrams:\n",
      ". мягк игрушк\n",
      ". развива коврик\n",
      "# '31':\n",
      "  . Most correlated unigrams:\n",
      ". клатч\n",
      ". сумк\n",
      "  . Most correlated bigrams:\n",
      ". женск сумк\n",
      ". сумк женск\n",
      "# '32':\n",
      "  . Most correlated unigrams:\n",
      ". прогулочн\n",
      ". коляск\n",
      "  . Most correlated bigrams:\n",
      ". прогулочн блок\n",
      ". детск коляск\n",
      "# '33':\n",
      "  . Most correlated unigrams:\n",
      ". пальт\n",
      ". куртк\n",
      "  . Most correlated bigrams:\n",
      ". кожан куртк\n",
      ". норков шуб\n",
      "# '34':\n",
      "  . Most correlated unigrams:\n",
      ". манеж\n",
      ". кроватк\n",
      "  . Most correlated bigrams:\n",
      ". кроватк детск\n",
      ". детск кроватк\n",
      "# '35':\n",
      "  . Most correlated unigrams:\n",
      ". юбк\n",
      ". плат\n",
      "  . Most correlated bigrams:\n",
      ". нов плат\n",
      ". плат плат\n",
      "# '36':\n",
      "  . Most correlated unigrams:\n",
      ". циферблат\n",
      ". час\n",
      "  . Most correlated bigrams:\n",
      ". наручн час\n",
      ". мужск час\n",
      "# '37':\n",
      "  . Most correlated unigrams:\n",
      ". инвалидн\n",
      ". волос\n",
      "  . Most correlated bigrams:\n",
      ". инвалидн коляск\n",
      ". уф ламп\n",
      "# '38':\n",
      "  . Most correlated unigrams:\n",
      ". кофт\n",
      ". шапк\n",
      "  . Most correlated bigrams:\n",
      ". спортивн костюм\n",
      ". норков шапк\n",
      "# '39':\n",
      "  . Most correlated unigrams:\n",
      ". туфл\n",
      ". сапог\n",
      "  . Most correlated bigrams:\n",
      ". натуральн кож\n",
      ". зимн сапог\n",
      "# '40':\n",
      "  . Most correlated unigrams:\n",
      ". кольц\n",
      ". проб\n",
      "  . Most correlated bigrams:\n",
      ". вес вставк\n",
      ". проб вес\n",
      "# '41':\n",
      "  . Most correlated unigrams:\n",
      ". сме\n",
      ". молокоотсос\n",
      "  . Most correlated bigrams:\n",
      ". philips avent\n",
      ". стульчик кормлен\n",
      "# '42':\n",
      "  . Most correlated unigrams:\n",
      ". ботинк\n",
      ". коньк\n",
      "  . Most correlated bigrams:\n",
      ". горн лыж\n",
      ". лыжн ботинк\n",
      "# '43':\n",
      "  . Most correlated unigrams:\n",
      ". переплет\n",
      ". книг\n",
      "  . Most correlated bigrams:\n",
      ". собран сочинен\n",
      ". тверд переплет\n",
      "# '44':\n",
      "  . Most correlated unigrams:\n",
      ". ссср\n",
      ". статуэтк\n",
      "  . Most correlated bigrams:\n",
      ". скол трещин\n",
      ". фарфоров статуэтк\n",
      "# '45':\n",
      "  . Most correlated unigrams:\n",
      ". копеек\n",
      ". монет\n",
      "  . Most correlated bigrams:\n",
      ". монет монет\n",
      ". набор монет\n",
      "# '46':\n",
      "  . Most correlated unigrams:\n",
      ". гантел\n",
      ". тренажер\n",
      "  . Most correlated bigrams:\n",
      ". вес пользовател\n",
      ". бегов дорожк\n",
      "# '47':\n",
      "  . Most correlated unigrams:\n",
      ". гимнастик\n",
      ". металлоискател\n",
      "  . Most correlated bigrams:\n",
      ". купальник художествен\n",
      ". художествен гимнастик\n",
      "# '48':\n",
      "  . Most correlated unigrams:\n",
      ". вылет\n",
      ". тур\n",
      "  . Most correlated bigrams:\n",
      ". питан завтрак\n",
      ". горя тур\n",
      "# '49':\n",
      "  . Most correlated unigrams:\n",
      ". спиннинг\n",
      ". рыбалк\n",
      "  . Most correlated bigrams:\n",
      ". охот рыбалк\n",
      ". зимн рыбалк\n",
      "# '50':\n",
      "  . Most correlated unigrams:\n",
      ". струн\n",
      ". гитар\n",
      "  . Most correlated bigrams:\n",
      ". гитар гитар\n",
      ". акустическ гитар\n",
      "# '51':\n",
      "  . Most correlated unigrams:\n",
      ". класс\n",
      ". учебник\n",
      "  . Most correlated bigrams:\n",
      ". английск язык\n",
      ". рабоч тетрад\n",
      "# '52':\n",
      "  . Most correlated unigrams:\n",
      ". гитарн\n",
      ". микрофон\n",
      "  . Most correlated bigrams:\n",
      ". звуков карт\n",
      ". микшерн пульт\n",
      "# '53':\n",
      "  . Most correlated unigrams:\n",
      ". shimano\n",
      ". велосипед\n",
      "  . Most correlated bigrams:\n",
      ". ут групп\n",
      ". фирм shimano\n"
     ]
    }
   ],
   "source": [
    "from sklearn.feature_selection import chi2\n",
    "import numpy as np\n",
    "N = 2\n",
    "for category_id in sorted(data.category_id.unique()):\n",
    "    \n",
    "    features_chi2 = chi2(features, labels == category_id)\n",
    "    indices = np.argsort(features_chi2[0])\n",
    "    feature_names = np.array(tfidf.get_feature_names())[indices]\n",
    "    unigrams = [v for v in feature_names if len(v.split(' ')) == 1]\n",
    "    bigrams = [v for v in feature_names if len(v.split(' ')) == 2]\n",
    "    print(\"# '{}':\".format(category_id))\n",
    "    print(\"  . Most correlated unigrams:\\n. {}\".format('\\n. '.join(unigrams[-N:])))\n",
    "    print(\"  . Most correlated bigrams:\\n. {}\".format('\\n. '.join(bigrams[-N:])))"
   ]
  },
  {
   "cell_type": "markdown",
   "metadata": {},
   "source": [
    "As for me, that does make sense"
   ]
  },
  {
   "cell_type": "markdown",
   "metadata": {},
   "source": [
    "## 2. Classifiers"
   ]
  },
  {
   "cell_type": "code",
   "execution_count": 45,
   "metadata": {
    "ExecuteTime": {
     "end_time": "2019-05-29T22:03:31.438097Z",
     "start_time": "2019-05-29T21:33:02.159445Z"
    }
   },
   "outputs": [
    {
     "name": "stderr",
     "output_type": "stream",
     "text": [
      "/home/dimitry/anaconda3/lib/python3.7/site-packages/sklearn/linear_model/logistic.py:433: FutureWarning: Default solver will be changed to 'lbfgs' in 0.22. Specify a solver to silence this warning.\n",
      "  FutureWarning)\n",
      "/home/dimitry/anaconda3/lib/python3.7/site-packages/sklearn/linear_model/logistic.py:460: FutureWarning: Default multi_class will be changed to 'auto' in 0.22. Specify the multi_class option to silence this warning.\n",
      "  \"this warning.\", FutureWarning)\n"
     ]
    },
    {
     "data": {
      "image/png": "[encoded data removed]",
      "text/plain": [
       "<Figure size 432x288 with 1 Axes>"
      ]
     },
     "metadata": {
      "needs_background": "light"
     },
     "output_type": "display_data"
    }
   ],
   "source": [
    "\n",
    "from sklearn.naive_bayes import MultinomialNB\n",
    "from sklearn.linear_model import LogisticRegression\n",
    "#from sklearn.ensemble import RandomForestClassifier\n",
    "#from sklearn.svm import LinearSVC\n",
    "from sklearn.model_selection import cross_val_score\n",
    "models = [\n",
    "    #RandomForestClassifier(n_estimators=200, max_depth=3, random_state=0),\n",
    "    #LinearSVC(),\n",
    "    MultinomialNB(),\n",
    "    LogisticRegression(random_state=0),\n",
    "]\n",
    "CV = 5\n",
    "cv_df = pd.DataFrame(index=range(CV * len(models)))\n",
    "entries = []\n",
    "for model in models:\n",
    "    model_name = model.__class__.__name__\n",
    "    accuracies = cross_val_score(model, features, labels, scoring='accuracy', cv=CV)\n",
    "    for fold_idx, accuracy in enumerate(accuracies):\n",
    "        entries.append((model_name, fold_idx, accuracy))\n",
    "cv_df = pd.DataFrame(entries, columns=['model_name', 'fold_idx', 'accuracy'])\n",
    "\n",
    "import seaborn as sns\n",
    "sns.boxplot(x='model_name', y='accuracy', data=cv_df)\n",
    "sns.stripplot(x='model_name', y='accuracy', data=cv_df, \n",
    "              size=8, jitter=True, edgecolor=\"gray\", linewidth=2)\n",
    "plt.show()"
   ]
  },
  {
   "cell_type": "markdown",
   "metadata": {},
   "source": [
    "## 2.2 LogisticRegression"
   ]
  },
  {
   "cell_type": "markdown",
   "metadata": {},
   "source": [
    "As we can see, LogisticRegression performs much better than MultinomialNB, so we will try to improve LogisticRegression. "
   ]
  },
  {
   "cell_type": "code",
   "execution_count": 46,
   "metadata": {
    "ExecuteTime": {
     "end_time": "2019-05-29T22:15:56.783859Z",
     "start_time": "2019-05-29T22:15:56.404939Z"
    }
   },
   "outputs": [],
   "source": [
    "from sklearn.model_selection import train_test_split\n",
    "\n",
    "X_train, X_test, y_train, y_test = train_test_split(features,\n",
    "                                                    labels, \n",
    "                                                    test_size=0.2, \n",
    "                                                    random_state=0)"
   ]
  },
  {
   "cell_type": "markdown",
   "metadata": {},
   "source": [
    "Create Logistic Regression"
   ]
  },
  {
   "cell_type": "code",
   "execution_count": 47,
   "metadata": {
    "ExecuteTime": {
     "end_time": "2019-05-29T22:16:25.818151Z",
     "start_time": "2019-05-29T22:16:25.807893Z"
    }
   },
   "outputs": [],
   "source": [
    "# Create logistic regression\n",
    "logistic = LogisticRegression()"
   ]
  },
  {
   "cell_type": "code",
   "execution_count": 67,
   "metadata": {
    "ExecuteTime": {
     "end_time": "2019-05-29T22:43:57.280636Z",
     "start_time": "2019-05-29T22:43:57.273186Z"
    }
   },
   "outputs": [
    {
     "data": {
      "text/plain": [
       "LogisticRegression(C=1.0, class_weight=None, dual=False, fit_intercept=True,\n",
       "          intercept_scaling=1, max_iter=100, multi_class='warn',\n",
       "          n_jobs=None, penalty='l2', random_state=0, solver='warn',\n",
       "          tol=0.0001, verbose=0, warm_start=False)"
      ]
     },
     "execution_count": 67,
     "metadata": {},
     "output_type": "execute_result"
    }
   ],
   "source": [
    "models[1]"
   ]
  },
  {
   "cell_type": "markdown",
   "metadata": {},
   "source": [
    "models"
   ]
  },
  {
   "cell_type": "code",
   "execution_count": 55,
   "metadata": {
    "ExecuteTime": {
     "end_time": "2019-05-29T22:24:24.945060Z",
     "start_time": "2019-05-29T22:19:08.595552Z"
    }
   },
   "outputs": [
    {
     "name": "stderr",
     "output_type": "stream",
     "text": [
      "/home/dimitry/anaconda3/lib/python3.7/site-packages/sklearn/linear_model/logistic.py:433: FutureWarning: Default solver will be changed to 'lbfgs' in 0.22. Specify a solver to silence this warning.\n",
      "  FutureWarning)\n",
      "/home/dimitry/anaconda3/lib/python3.7/site-packages/sklearn/linear_model/logistic.py:460: FutureWarning: Default multi_class will be changed to 'auto' in 0.22. Specify the multi_class option to silence this warning.\n",
      "  \"this warning.\", FutureWarning)\n"
     ]
    }
   ],
   "source": [
    "# обучаем модель и сохраняем веса (делаем это один раз. дальше просто загружаем веса обученой модели, и предсказываем)\n",
    "#сохранение весов на диск\n",
    "\n",
    "from sklearn.externals import joblib\n",
    "\n",
    "logistic_1 = models[1].fit(X_train, y_train)\n",
    "joblib.dump(logistic_1, 'logistic_1.pkl') #сохранение весов на диск\n",
    "\n",
    "\n"
   ]
  },
  {
   "cell_type": "code",
   "execution_count": null,
   "metadata": {},
   "outputs": [],
   "source": [
    "logistic_load = joblib.load('logistic_1.pkl') # загружаем веса\n",
    "y_pred = logistic_load.predict(X_test)"
   ]
  },
  {
   "cell_type": "code",
   "execution_count": 56,
   "metadata": {
    "ExecuteTime": {
     "end_time": "2019-05-29T22:25:07.677640Z",
     "start_time": "2019-05-29T22:25:07.495377Z"
    }
   },
   "outputs": [],
   "source": [
    "y_pred = logistic_1.predict(X_test)"
   ]
  },
  {
   "cell_type": "code",
   "execution_count": 59,
   "metadata": {
    "ExecuteTime": {
     "end_time": "2019-05-29T22:25:49.189234Z",
     "start_time": "2019-05-29T22:25:49.161862Z"
    }
   },
   "outputs": [
    {
     "name": "stdout",
     "output_type": "stream",
     "text": [
      "Global accuracy: 0.8591\n"
     ]
    }
   ],
   "source": [
    "from sklearn.metrics import accuracy_score\n",
    "\n",
    "\n",
    "print('Global accuracy: {0:.4f}'.format(accuracy_score(y_test, y_pred)))"
   ]
  }
 ],
 "metadata": {
  "kernelspec": {
   "display_name": "Python 3",
   "language": "python",
   "name": "python3"
  },
  "language_info": {
   "codemirror_mode": {
    "name": "ipython",
    "version": 3
   },
   "file_extension": ".py",
   "mimetype": "text/x-python",
   "name": "python",
   "nbconvert_exporter": "python",
   "pygments_lexer": "ipython3",
   "version": "3.7.1"
  }
 },
 "nbformat": 4,
 "nbformat_minor": 2
}
